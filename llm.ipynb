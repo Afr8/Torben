{
 "cells": [
  {
   "cell_type": "code",
   "execution_count": null,
   "metadata": {},
   "outputs": [],
   "source": [
    "\n",
    "from dotenv import load_dotenv\n",
    "import os\n",
    "from langchain_openai import ChatOpenAI\t\n",
    "import json\n",
    "from langchain.prompts.chat import (\n",
    "    ChatPromptTemplate,\n",
    "    AIMessagePromptTemplate,\n",
    "    HumanMessagePromptTemplate,\n",
    "    SystemMessagePromptTemplate\n",
    ")\n",
    "from langchain_community.document_loaders import PyPDFLoader\n",
    "from langchain_text_splitters import NLTKTextSplitter\n",
    "from langchain.schema.output_parser import StrOutputParser\n",
    "\n",
    "\n",
    "import PyPDF2"
   ]
  },
  {
   "cell_type": "code",
   "execution_count": null,
   "metadata": {},
   "outputs": [],
   "source": [
    "import nltk\n",
    "nltk.download()"
   ]
  },
  {
   "cell_type": "code",
   "execution_count": null,
   "metadata": {},
   "outputs": [],
   "source": [
    "def extract_text_from_pdf(file_path):\n",
    "    pdf_file_obj = open(file_path, 'rb')\n",
    "    pdf_reader = PyPDF2.PdfReader(pdf_file_obj)\n",
    "    text = \"\"\n",
    "    for page_num in range(len(pdf_reader.pages) ):\n",
    "        page_obj = pdf_reader.pages[page_num]\n",
    "        text += page_obj.extract_text()\n",
    "    pdf_file_obj.close()\n",
    "    return text"
   ]
  },
  {
   "cell_type": "code",
   "execution_count": null,
   "metadata": {},
   "outputs": [],
   "source": [
    "text = extract_text_from_pdf('CELEX_32022R2554_DE_TXT.pdf')\n",
    "print(text)\n",
    "\n"
   ]
  },
  {
   "cell_type": "code",
   "execution_count": null,
   "metadata": {},
   "outputs": [],
   "source": [
    "text_splitter =  NLTKTextSplitter(chunk_size = 5000, chunk_overlap = 800)"
   ]
  },
  {
   "cell_type": "code",
   "execution_count": null,
   "metadata": {},
   "outputs": [],
   "source": [
    "texts = text_splitter.split_text(text)\n",
    "print(texts[0])"
   ]
  },
  {
   "cell_type": "code",
   "execution_count": 67,
   "metadata": {},
   "outputs": [
    {
     "name": "stdout",
     "output_type": "stream",
     "text": [
      "showing info https://raw.githubusercontent.com/nltk/nltk_data/gh-pages/index.xml\n"
     ]
    },
    {
     "data": {
      "text/plain": [
       "True"
      ]
     },
     "execution_count": 67,
     "metadata": {},
     "output_type": "execute_result"
    }
   ],
   "source": []
  },
  {
   "cell_type": "code",
   "execution_count": null,
   "metadata": {},
   "outputs": [],
   "source": [
    "print(texts[3])"
   ]
  },
  {
   "cell_type": "code",
   "execution_count": null,
   "metadata": {},
   "outputs": [],
   "source": [
    "print(texts[4])"
   ]
  },
  {
   "cell_type": "code",
   "execution_count": null,
   "metadata": {},
   "outputs": [],
   "source": [
    "\n",
    "\n",
    "load_dotenv()\n",
    "api_key = os.getenv(\"OA_TOKEN\")\n",
    "\n",
    "llm = ChatOpenAI(api_key=api_key, model=\"gpt-4-0125-preview\")"
   ]
  },
  {
   "cell_type": "code",
   "execution_count": null,
   "metadata": {},
   "outputs": [],
   "source": [
    "\n",
    "\n",
    "\n",
    "\n",
    "system_prompt = SystemMessagePromptTemplate.from_template(\"Du bist ein Helfer der Dokumente logisch in abschnitte unterteillt\")\n",
    "\n",
    "example_anfrage = HumanMessagePromptTemplate.from_template(\"Du analysierst bitte die folgende Verordnung und erstellst Maßnahmen, um die in der Verordnung definierten Mindestanforderungen umsetzen. Die Maßnahmen sollten so modular wie nur möglich erstellt werden und es kann auch pro Artikel mehrere Maßnahmen geben. Die Maßnahmen können z.B. die schriftliche Fixierung in einem Dokument sein, die Implementierung eines Tools oder die Anpassung einer Methodik. Ich möchte, dass die Maßnahmen so heruntergebrachten sind, dass wir einzelne Arbeitsschritte haben und z.B. nicht Implementierung und schriftliche Fixierung Bestandteil einer einzelnen Maßnahme sind! Zudem sollten die Maßnahmen den entsprechenden Artikeln und Unterabsätzen zugeordnet sein. Documententext: \")\n",
    "example_antwort = AIMessagePromptTemplate.from_template(\"\")\n",
    "\n",
    "\n",
    "\n",
    "\n",
    "humanprompt = HumanMessagePromptTemplate.from_template(\"Du analysierst bitte die folgende Verordnung und erstellst Maßnahmen, um die in der Verordnung definierten Mindestanforderungen umsetzen. Die Maßnahmen sollten so modular wie nur möglich erstellt werden und es kann auch pro Artikel mehrere Maßnahmen geben. Die Maßnahmen können z.B. die schriftliche Fixierung in einem Dokument sein, die Implementierung eines Tools oder die Anpassung einer Methodik. Ich möchte, dass die Maßnahmen so heruntergebrachten sind, dass wir einzelne Arbeitsschritte haben und z.B. nicht Implementierung und schriftliche Fixierung Bestandteil einer einzelnen Maßnahme sind! Zudem sollten die Maßnahmen den entsprechenden Artikeln und Unterabsätzen zugeordnet sein. Documententext: {document_text}\")\n",
    "chat_promt = ChatPromptTemplate.from_messages([system_prompt,example_anfrage,example_antwort,humanprompt])"
   ]
  },
  {
   "cell_type": "code",
   "execution_count": null,
   "metadata": {},
   "outputs": [],
   "source": [
    "\n",
    "chain = chat_promt | llm | StrOutputParser()\n"
   ]
  },
  {
   "cell_type": "code",
   "execution_count": null,
   "metadata": {},
   "outputs": [],
   "source": []
  },
  {
   "cell_type": "code",
   "execution_count": null,
   "metadata": {},
   "outputs": [],
   "source": [
    "result = chain.invoke(texts[4])"
   ]
  },
  {
   "cell_type": "code",
   "execution_count": null,
   "metadata": {},
   "outputs": [],
   "source": [
    "\n",
    "with open('result.txt', \"w\", encoding='utf-8') as f:\n",
    "    text = f.write(result)"
   ]
  },
  {
   "cell_type": "code",
   "execution_count": null,
   "metadata": {},
   "outputs": [],
   "source": []
  },
  {
   "cell_type": "code",
   "execution_count": null,
   "metadata": {},
   "outputs": [],
   "source": []
  }
 ],
 "metadata": {
  "kernelspec": {
   "display_name": ".venv",
   "language": "python",
   "name": "python3"
  },
  "language_info": {
   "codemirror_mode": {
    "name": "ipython",
    "version": 3
   },
   "file_extension": ".py",
   "mimetype": "text/x-python",
   "name": "python",
   "nbconvert_exporter": "python",
   "pygments_lexer": "ipython3",
   "version": "3.11.5"
  }
 },
 "nbformat": 4,
 "nbformat_minor": 2
}
